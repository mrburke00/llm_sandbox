{
  "nbformat": 4,
  "nbformat_minor": 0,
  "metadata": {
    "colab": {
      "provenance": [],
      "authorship_tag": "ABX9TyPQA11pbLHYRwlgvk2/IaMk",
      "include_colab_link": true
    },
    "kernelspec": {
      "name": "python3",
      "display_name": "Python 3"
    },
    "language_info": {
      "name": "python"
    }
  },
  "cells": [
    {
      "cell_type": "markdown",
      "metadata": {
        "id": "view-in-github",
        "colab_type": "text"
      },
      "source": [
        "<a href=\"https://colab.research.google.com/github/mrburke00/llm_sandbox/blob/main/langchain_orchestration.ipynb\" target=\"_parent\"><img src=\"https://colab.research.google.com/assets/colab-badge.svg\" alt=\"Open In Colab\"/></a>"
      ]
    },
    {
      "cell_type": "markdown",
      "source": [
        "### Building an Agent\n",
        "\n",
        "By themselves, language models can't take actions - they just output text. A big use case for LangChain is creating agents. Agents are systems that use LLMs as reasoning engines to determine which actions to take and the inputs necessary to perform the action. After executing actions, the results can be fed back into the LLM to determine whether more actions are needed, or whether it is okay to finish. This is often achieved via tool-calling."
      ],
      "metadata": {
        "id": "vyY9v7ayQ1aO"
      }
    },
    {
      "cell_type": "code",
      "execution_count": 1,
      "metadata": {
        "colab": {
          "base_uri": "https://localhost:8080/"
        },
        "id": "VqIApr7rQS9v",
        "outputId": "e98bffe1-f642-48da-a28a-e5478fa1936d"
      },
      "outputs": [
        {
          "output_type": "stream",
          "name": "stdout",
          "text": [
            "Collecting langchain-community\n",
            "  Downloading langchain_community-0.3.21-py3-none-any.whl.metadata (2.4 kB)\n",
            "Collecting langgraph\n",
            "  Downloading langgraph-0.3.28-py3-none-any.whl.metadata (7.7 kB)\n",
            "Collecting langchain-anthropic\n",
            "  Downloading langchain_anthropic-0.3.10-py3-none-any.whl.metadata (1.9 kB)\n",
            "Collecting tavily-python\n",
            "  Downloading tavily_python-0.5.4-py3-none-any.whl.metadata (91 kB)\n",
            "\u001b[2K     \u001b[90m━━━━━━━━━━━━━━━━━━━━━━━━━━━━━━━━━━━━━━━━\u001b[0m \u001b[32m91.6/91.6 kB\u001b[0m \u001b[31m2.5 MB/s\u001b[0m eta \u001b[36m0:00:00\u001b[0m\n",
            "\u001b[?25hCollecting langgraph-checkpoint-sqlite\n",
            "  Downloading langgraph_checkpoint_sqlite-2.0.6-py3-none-any.whl.metadata (3.0 kB)\n",
            "Requirement already satisfied: langchain-core<1.0.0,>=0.3.51 in /usr/local/lib/python3.11/dist-packages (from langchain-community) (0.3.51)\n",
            "Requirement already satisfied: langchain<1.0.0,>=0.3.23 in /usr/local/lib/python3.11/dist-packages (from langchain-community) (0.3.23)\n",
            "Requirement already satisfied: SQLAlchemy<3,>=1.4 in /usr/local/lib/python3.11/dist-packages (from langchain-community) (2.0.40)\n",
            "Requirement already satisfied: requests<3,>=2 in /usr/local/lib/python3.11/dist-packages (from langchain-community) (2.32.3)\n",
            "Requirement already satisfied: PyYAML>=5.3 in /usr/local/lib/python3.11/dist-packages (from langchain-community) (6.0.2)\n",
            "Requirement already satisfied: aiohttp<4.0.0,>=3.8.3 in /usr/local/lib/python3.11/dist-packages (from langchain-community) (3.11.15)\n",
            "Requirement already satisfied: tenacity!=8.4.0,<10,>=8.1.0 in /usr/local/lib/python3.11/dist-packages (from langchain-community) (9.1.2)\n",
            "Collecting dataclasses-json<0.7,>=0.5.7 (from langchain-community)\n",
            "  Downloading dataclasses_json-0.6.7-py3-none-any.whl.metadata (25 kB)\n",
            "Collecting pydantic-settings<3.0.0,>=2.4.0 (from langchain-community)\n",
            "  Downloading pydantic_settings-2.8.1-py3-none-any.whl.metadata (3.5 kB)\n",
            "Requirement already satisfied: langsmith<0.4,>=0.1.125 in /usr/local/lib/python3.11/dist-packages (from langchain-community) (0.3.24)\n",
            "Collecting httpx-sse<1.0.0,>=0.4.0 (from langchain-community)\n",
            "  Downloading httpx_sse-0.4.0-py3-none-any.whl.metadata (9.0 kB)\n",
            "Requirement already satisfied: numpy<3,>=1.26.2 in /usr/local/lib/python3.11/dist-packages (from langchain-community) (2.0.2)\n",
            "Collecting langgraph-checkpoint<3.0.0,>=2.0.10 (from langgraph)\n",
            "  Downloading langgraph_checkpoint-2.0.24-py3-none-any.whl.metadata (4.6 kB)\n",
            "Collecting langgraph-prebuilt<0.2,>=0.1.1 (from langgraph)\n",
            "  Downloading langgraph_prebuilt-0.1.8-py3-none-any.whl.metadata (5.0 kB)\n",
            "Collecting langgraph-sdk<0.2.0,>=0.1.42 (from langgraph)\n",
            "  Downloading langgraph_sdk-0.1.61-py3-none-any.whl.metadata (1.8 kB)\n",
            "Collecting xxhash<4.0.0,>=3.5.0 (from langgraph)\n",
            "  Downloading xxhash-3.5.0-cp311-cp311-manylinux_2_17_x86_64.manylinux2014_x86_64.whl.metadata (12 kB)\n",
            "Collecting anthropic<1,>=0.49.0 (from langchain-anthropic)\n",
            "  Downloading anthropic-0.49.0-py3-none-any.whl.metadata (24 kB)\n",
            "Requirement already satisfied: pydantic<3.0.0,>=2.7.4 in /usr/local/lib/python3.11/dist-packages (from langchain-anthropic) (2.11.2)\n",
            "Collecting tiktoken>=0.5.1 (from tavily-python)\n",
            "  Downloading tiktoken-0.9.0-cp311-cp311-manylinux_2_17_x86_64.manylinux2014_x86_64.whl.metadata (6.7 kB)\n",
            "Requirement already satisfied: httpx in /usr/local/lib/python3.11/dist-packages (from tavily-python) (0.28.1)\n",
            "Collecting aiosqlite<0.22,>=0.20 (from langgraph-checkpoint-sqlite)\n",
            "  Downloading aiosqlite-0.21.0-py3-none-any.whl.metadata (4.3 kB)\n",
            "Requirement already satisfied: aiohappyeyeballs>=2.3.0 in /usr/local/lib/python3.11/dist-packages (from aiohttp<4.0.0,>=3.8.3->langchain-community) (2.6.1)\n",
            "Requirement already satisfied: aiosignal>=1.1.2 in /usr/local/lib/python3.11/dist-packages (from aiohttp<4.0.0,>=3.8.3->langchain-community) (1.3.2)\n",
            "Requirement already satisfied: attrs>=17.3.0 in /usr/local/lib/python3.11/dist-packages (from aiohttp<4.0.0,>=3.8.3->langchain-community) (25.3.0)\n",
            "Requirement already satisfied: frozenlist>=1.1.1 in /usr/local/lib/python3.11/dist-packages (from aiohttp<4.0.0,>=3.8.3->langchain-community) (1.5.0)\n",
            "Requirement already satisfied: multidict<7.0,>=4.5 in /usr/local/lib/python3.11/dist-packages (from aiohttp<4.0.0,>=3.8.3->langchain-community) (6.3.2)\n",
            "Requirement already satisfied: propcache>=0.2.0 in /usr/local/lib/python3.11/dist-packages (from aiohttp<4.0.0,>=3.8.3->langchain-community) (0.3.1)\n",
            "Requirement already satisfied: yarl<2.0,>=1.17.0 in /usr/local/lib/python3.11/dist-packages (from aiohttp<4.0.0,>=3.8.3->langchain-community) (1.18.3)\n",
            "Requirement already satisfied: typing_extensions>=4.0 in /usr/local/lib/python3.11/dist-packages (from aiosqlite<0.22,>=0.20->langgraph-checkpoint-sqlite) (4.13.1)\n",
            "Requirement already satisfied: anyio<5,>=3.5.0 in /usr/local/lib/python3.11/dist-packages (from anthropic<1,>=0.49.0->langchain-anthropic) (4.9.0)\n",
            "Requirement already satisfied: distro<2,>=1.7.0 in /usr/local/lib/python3.11/dist-packages (from anthropic<1,>=0.49.0->langchain-anthropic) (1.9.0)\n",
            "Requirement already satisfied: jiter<1,>=0.4.0 in /usr/local/lib/python3.11/dist-packages (from anthropic<1,>=0.49.0->langchain-anthropic) (0.9.0)\n",
            "Requirement already satisfied: sniffio in /usr/local/lib/python3.11/dist-packages (from anthropic<1,>=0.49.0->langchain-anthropic) (1.3.1)\n",
            "Collecting marshmallow<4.0.0,>=3.18.0 (from dataclasses-json<0.7,>=0.5.7->langchain-community)\n",
            "  Downloading marshmallow-3.26.1-py3-none-any.whl.metadata (7.3 kB)\n",
            "Collecting typing-inspect<1,>=0.4.0 (from dataclasses-json<0.7,>=0.5.7->langchain-community)\n",
            "  Downloading typing_inspect-0.9.0-py3-none-any.whl.metadata (1.5 kB)\n",
            "Requirement already satisfied: certifi in /usr/local/lib/python3.11/dist-packages (from httpx->tavily-python) (2025.1.31)\n",
            "Requirement already satisfied: httpcore==1.* in /usr/local/lib/python3.11/dist-packages (from httpx->tavily-python) (1.0.7)\n",
            "Requirement already satisfied: idna in /usr/local/lib/python3.11/dist-packages (from httpx->tavily-python) (3.10)\n",
            "Requirement already satisfied: h11<0.15,>=0.13 in /usr/local/lib/python3.11/dist-packages (from httpcore==1.*->httpx->tavily-python) (0.14.0)\n",
            "Requirement already satisfied: langchain-text-splitters<1.0.0,>=0.3.8 in /usr/local/lib/python3.11/dist-packages (from langchain<1.0.0,>=0.3.23->langchain-community) (0.3.8)\n",
            "Requirement already satisfied: jsonpatch<2.0,>=1.33 in /usr/local/lib/python3.11/dist-packages (from langchain-core<1.0.0,>=0.3.51->langchain-community) (1.33)\n",
            "Requirement already satisfied: packaging<25,>=23.2 in /usr/local/lib/python3.11/dist-packages (from langchain-core<1.0.0,>=0.3.51->langchain-community) (24.2)\n",
            "Collecting ormsgpack<2.0.0,>=1.8.0 (from langgraph-checkpoint<3.0.0,>=2.0.10->langgraph)\n",
            "  Downloading ormsgpack-1.9.1-cp311-cp311-manylinux_2_17_x86_64.manylinux2014_x86_64.whl.metadata (43 kB)\n",
            "\u001b[2K     \u001b[90m━━━━━━━━━━━━━━━━━━━━━━━━━━━━━━━━━━━━━━━━\u001b[0m \u001b[32m43.5/43.5 kB\u001b[0m \u001b[31m1.9 MB/s\u001b[0m eta \u001b[36m0:00:00\u001b[0m\n",
            "\u001b[?25hRequirement already satisfied: orjson>=3.10.1 in /usr/local/lib/python3.11/dist-packages (from langgraph-sdk<0.2.0,>=0.1.42->langgraph) (3.10.16)\n",
            "Requirement already satisfied: requests-toolbelt<2.0.0,>=1.0.0 in /usr/local/lib/python3.11/dist-packages (from langsmith<0.4,>=0.1.125->langchain-community) (1.0.0)\n",
            "Requirement already satisfied: zstandard<0.24.0,>=0.23.0 in /usr/local/lib/python3.11/dist-packages (from langsmith<0.4,>=0.1.125->langchain-community) (0.23.0)\n",
            "Requirement already satisfied: annotated-types>=0.6.0 in /usr/local/lib/python3.11/dist-packages (from pydantic<3.0.0,>=2.7.4->langchain-anthropic) (0.7.0)\n",
            "Requirement already satisfied: pydantic-core==2.33.1 in /usr/local/lib/python3.11/dist-packages (from pydantic<3.0.0,>=2.7.4->langchain-anthropic) (2.33.1)\n",
            "Requirement already satisfied: typing-inspection>=0.4.0 in /usr/local/lib/python3.11/dist-packages (from pydantic<3.0.0,>=2.7.4->langchain-anthropic) (0.4.0)\n",
            "Collecting python-dotenv>=0.21.0 (from pydantic-settings<3.0.0,>=2.4.0->langchain-community)\n",
            "  Downloading python_dotenv-1.1.0-py3-none-any.whl.metadata (24 kB)\n",
            "Requirement already satisfied: charset-normalizer<4,>=2 in /usr/local/lib/python3.11/dist-packages (from requests<3,>=2->langchain-community) (3.4.1)\n",
            "Requirement already satisfied: urllib3<3,>=1.21.1 in /usr/local/lib/python3.11/dist-packages (from requests<3,>=2->langchain-community) (2.3.0)\n",
            "Requirement already satisfied: greenlet>=1 in /usr/local/lib/python3.11/dist-packages (from SQLAlchemy<3,>=1.4->langchain-community) (3.1.1)\n",
            "Requirement already satisfied: regex>=2022.1.18 in /usr/local/lib/python3.11/dist-packages (from tiktoken>=0.5.1->tavily-python) (2024.11.6)\n",
            "Requirement already satisfied: jsonpointer>=1.9 in /usr/local/lib/python3.11/dist-packages (from jsonpatch<2.0,>=1.33->langchain-core<1.0.0,>=0.3.51->langchain-community) (3.0.0)\n",
            "Collecting mypy-extensions>=0.3.0 (from typing-inspect<1,>=0.4.0->dataclasses-json<0.7,>=0.5.7->langchain-community)\n",
            "  Downloading mypy_extensions-1.0.0-py3-none-any.whl.metadata (1.1 kB)\n",
            "Downloading langchain_community-0.3.21-py3-none-any.whl (2.5 MB)\n",
            "\u001b[2K   \u001b[90m━━━━━━━━━━━━━━━━━━━━━━━━━━━━━━━━━━━━━━━━\u001b[0m \u001b[32m2.5/2.5 MB\u001b[0m \u001b[31m27.8 MB/s\u001b[0m eta \u001b[36m0:00:00\u001b[0m\n",
            "\u001b[?25hDownloading langgraph-0.3.28-py3-none-any.whl (144 kB)\n",
            "\u001b[2K   \u001b[90m━━━━━━━━━━━━━━━━━━━━━━━━━━━━━━━━━━━━━━━━\u001b[0m \u001b[32m144.1/144.1 kB\u001b[0m \u001b[31m8.0 MB/s\u001b[0m eta \u001b[36m0:00:00\u001b[0m\n",
            "\u001b[?25hDownloading langchain_anthropic-0.3.10-py3-none-any.whl (25 kB)\n",
            "Downloading tavily_python-0.5.4-py3-none-any.whl (44 kB)\n",
            "\u001b[2K   \u001b[90m━━━━━━━━━━━━━━━━━━━━━━━━━━━━━━━━━━━━━━━━\u001b[0m \u001b[32m44.4/44.4 kB\u001b[0m \u001b[31m2.1 MB/s\u001b[0m eta \u001b[36m0:00:00\u001b[0m\n",
            "\u001b[?25hDownloading langgraph_checkpoint_sqlite-2.0.6-py3-none-any.whl (12 kB)\n",
            "Downloading aiosqlite-0.21.0-py3-none-any.whl (15 kB)\n",
            "Downloading anthropic-0.49.0-py3-none-any.whl (243 kB)\n",
            "\u001b[2K   \u001b[90m━━━━━━━━━━━━━━━━━━━━━━━━━━━━━━━━━━━━━━━━\u001b[0m \u001b[32m243.4/243.4 kB\u001b[0m \u001b[31m13.2 MB/s\u001b[0m eta \u001b[36m0:00:00\u001b[0m\n",
            "\u001b[?25hDownloading dataclasses_json-0.6.7-py3-none-any.whl (28 kB)\n",
            "Downloading httpx_sse-0.4.0-py3-none-any.whl (7.8 kB)\n",
            "Downloading langgraph_checkpoint-2.0.24-py3-none-any.whl (42 kB)\n",
            "\u001b[2K   \u001b[90m━━━━━━━━━━━━━━━━━━━━━━━━━━━━━━━━━━━━━━━━\u001b[0m \u001b[32m42.0/42.0 kB\u001b[0m \u001b[31m3.3 MB/s\u001b[0m eta \u001b[36m0:00:00\u001b[0m\n",
            "\u001b[?25hDownloading langgraph_prebuilt-0.1.8-py3-none-any.whl (25 kB)\n",
            "Downloading langgraph_sdk-0.1.61-py3-none-any.whl (47 kB)\n",
            "\u001b[2K   \u001b[90m━━━━━━━━━━━━━━━━━━━━━━━━━━━━━━━━━━━━━━━━\u001b[0m \u001b[32m47.2/47.2 kB\u001b[0m \u001b[31m3.1 MB/s\u001b[0m eta \u001b[36m0:00:00\u001b[0m\n",
            "\u001b[?25hDownloading pydantic_settings-2.8.1-py3-none-any.whl (30 kB)\n",
            "Downloading tiktoken-0.9.0-cp311-cp311-manylinux_2_17_x86_64.manylinux2014_x86_64.whl (1.2 MB)\n",
            "\u001b[2K   \u001b[90m━━━━━━━━━━━━━━━━━━━━━━━━━━━━━━━━━━━━━━━━\u001b[0m \u001b[32m1.2/1.2 MB\u001b[0m \u001b[31m33.1 MB/s\u001b[0m eta \u001b[36m0:00:00\u001b[0m\n",
            "\u001b[?25hDownloading xxhash-3.5.0-cp311-cp311-manylinux_2_17_x86_64.manylinux2014_x86_64.whl (194 kB)\n",
            "\u001b[2K   \u001b[90m━━━━━━━━━━━━━━━━━━━━━━━━━━━━━━━━━━━━━━━━\u001b[0m \u001b[32m194.8/194.8 kB\u001b[0m \u001b[31m6.7 MB/s\u001b[0m eta \u001b[36m0:00:00\u001b[0m\n",
            "\u001b[?25hDownloading marshmallow-3.26.1-py3-none-any.whl (50 kB)\n",
            "\u001b[2K   \u001b[90m━━━━━━━━━━━━━━━━━━━━━━━━━━━━━━━━━━━━━━━━\u001b[0m \u001b[32m50.9/50.9 kB\u001b[0m \u001b[31m1.8 MB/s\u001b[0m eta \u001b[36m0:00:00\u001b[0m\n",
            "\u001b[?25hDownloading ormsgpack-1.9.1-cp311-cp311-manylinux_2_17_x86_64.manylinux2014_x86_64.whl (223 kB)\n",
            "\u001b[2K   \u001b[90m━━━━━━━━━━━━━━━━━━━━━━━━━━━━━━━━━━━━━━━━\u001b[0m \u001b[32m223.6/223.6 kB\u001b[0m \u001b[31m7.8 MB/s\u001b[0m eta \u001b[36m0:00:00\u001b[0m\n",
            "\u001b[?25hDownloading python_dotenv-1.1.0-py3-none-any.whl (20 kB)\n",
            "Downloading typing_inspect-0.9.0-py3-none-any.whl (8.8 kB)\n",
            "Downloading mypy_extensions-1.0.0-py3-none-any.whl (4.7 kB)\n",
            "Installing collected packages: xxhash, python-dotenv, ormsgpack, mypy-extensions, marshmallow, httpx-sse, aiosqlite, typing-inspect, tiktoken, tavily-python, pydantic-settings, langgraph-sdk, dataclasses-json, anthropic, langgraph-checkpoint, langchain-anthropic, langgraph-prebuilt, langgraph-checkpoint-sqlite, langgraph, langchain-community\n",
            "Successfully installed aiosqlite-0.21.0 anthropic-0.49.0 dataclasses-json-0.6.7 httpx-sse-0.4.0 langchain-anthropic-0.3.10 langchain-community-0.3.21 langgraph-0.3.28 langgraph-checkpoint-2.0.24 langgraph-checkpoint-sqlite-2.0.6 langgraph-prebuilt-0.1.8 langgraph-sdk-0.1.61 marshmallow-3.26.1 mypy-extensions-1.0.0 ormsgpack-1.9.1 pydantic-settings-2.8.1 python-dotenv-1.1.0 tavily-python-0.5.4 tiktoken-0.9.0 typing-inspect-0.9.0 xxhash-3.5.0\n"
          ]
        }
      ],
      "source": [
        "%pip install -U langchain-community langgraph langchain-anthropic tavily-python langgraph-checkpoint-sqlite"
      ]
    },
    {
      "cell_type": "code",
      "source": [
        "import getpass\n",
        "import os\n",
        "\n",
        "os.environ[\"LANGSMITH_TRACING\"] = \"true\"\n",
        "os.environ[\"LANGSMITH_API_KEY\"] = getpass.getpass()"
      ],
      "metadata": {
        "colab": {
          "base_uri": "https://localhost:8080/"
        },
        "id": "syN3PzXDRQtN",
        "outputId": "372aa183-63e4-4eae-93ea-0a1b495f6ba1"
      },
      "execution_count": 2,
      "outputs": [
        {
          "name": "stdout",
          "output_type": "stream",
          "text": [
            "··········\n"
          ]
        }
      ]
    },
    {
      "cell_type": "markdown",
      "source": [
        "We first need to create the tools we want to use. Our main tool of choice will be Tavily - a search engine. We have a built-in tool in LangChain to easily use Tavily search engine as tool."
      ],
      "metadata": {
        "id": "G-LJ2BZeRevF"
      }
    },
    {
      "cell_type": "code",
      "source": [
        "import getpass\n",
        "import os\n",
        "\n",
        "os.environ[\"TAVILY_API_KEY\"] = getpass.getpass()"
      ],
      "metadata": {
        "colab": {
          "base_uri": "https://localhost:8080/"
        },
        "id": "75PPSkvKRh_P",
        "outputId": "7aded806-b68b-4a20-9eef-f4532a200fcb"
      },
      "execution_count": 3,
      "outputs": [
        {
          "name": "stdout",
          "output_type": "stream",
          "text": [
            "··········\n"
          ]
        }
      ]
    },
    {
      "cell_type": "code",
      "source": [
        "from langchain_community.tools.tavily_search import TavilySearchResults\n",
        "\n",
        "search = TavilySearchResults(max_results=2)\n",
        "search_results = search.invoke(\"what is the weather in SF\")\n",
        "print(search_results)\n",
        "# If we want, we can create other tools.\n",
        "# Once we have all the tools we want, we can put them in a list that we will reference later.\n",
        "tools = [search]"
      ],
      "metadata": {
        "colab": {
          "base_uri": "https://localhost:8080/"
        },
        "id": "uH1-CeFORSbQ",
        "outputId": "049a3e53-782b-4031-fc54-f1e2bdb3923c"
      },
      "execution_count": 4,
      "outputs": [
        {
          "output_type": "stream",
          "name": "stdout",
          "text": [
            "[{'title': 'Friday, April 11, 2025. San Francisco, CA - Weather Forecast', 'url': 'https://weathershogun.com/weather/usa/ca/san-francisco/480/april/2025-04-11', 'content': 'San Francisco, California Weather: Friday, April 11, 2025. Cloudy weather, overcast skies with clouds. Day 64°. Night 50°. Precipitation 2 %.', 'score': 0.94251215}, {'title': 'Weather San Francisco in April 2025: Temperature & Climate', 'url': 'https://en.climate-data.org/north-america/united-states-of-america/california/san-francisco-385/t/april-4/', 'content': '| Max. Temperature °C (°F) | 14 °C\\n(57.3) °F\\n| 14.9 °C\\n(58.7) °F\\n| 16.2 °C\\n(61.2) °F\\n| 17.4 °C\\n(63.3) °F\\n| 19.2 °C\\n(66.5) °F\\n| 21.5 °C\\n(70.8) °F\\n| 21.8 °C\\n(71.2) °F\\n| 22.2 °C\\n(71.9) °F\\n| 23.1 °C\\n(73.6) °F\\n| 21.3 °C\\n(70.3) °F\\n| 17.1 °C\\n(62.8) °F\\n| 13.9 °C\\n(57.1) °F\\n|\\n| Precipitation / Rainfall mm (in) | 113\\n(4)\\n| 118\\n(4)\\n| 83\\n(3)\\n| 40\\n(1)\\n| 21\\n(0)\\n| 6\\n(0)\\n| 2\\n(0)\\n| 2\\n(0)\\n| 3\\n(0)\\n| 25\\n(0)\\n| 57\\n(2)\\n| 111\\n(4)\\n|\\n| Humidity(%) | 79% | 80% | 78% | 72% | 70% | 69% | 74% | 74% | 71% | 70% | 76% | 78% | [...] (50.8) °F\\n| 11.6 °C\\n(52.9) °F\\n| 12.5 °C\\n(54.6) °F\\n| 14.1 °C\\n(57.4) °F\\n| 15.9 °C\\n(60.7) °F\\n| 16.3 °C\\n(61.4) °F\\n| 16.7 °C\\n(62.1) °F\\n| 17.1 °C\\n(62.7) °F\\n| 15.7 °C\\n(60.2) °F\\n| 12.4 °C\\n(54.4) °F\\n| 9.9 °C\\n(49.8) °F\\n|\\n| Min. Temperature °C (°F) | 6.2 °C\\n(43.2) °F\\n| 7.1 °C\\n(44.8) °F\\n| 8.2 °C\\n(46.8) °F\\n| 8.9 °C\\n(48.1) °F\\n| 10.3 °C\\n(50.6) °F\\n| 11.8 °C\\n(53.3) °F\\n| 12.7 °C\\n(54.9) °F\\n| 13.3 °C\\n(55.9) °F\\n| 13.1 °C\\n(55.6) °F\\n| 11.9 °C\\n(53.4) °F\\n| 9 °C\\n(48.2) °F\\n| 6.8 °C\\n(44.2) °F\\n| [...] | 8. April | 12 °C | 53 °F | 17 °C | 62 °F | 8 °C | 47 °F | 11 °C | 52 °F | 2.1 mm | 0.1 inch. |\\n| 9. April | 12 °C | 53 °F | 16 °C | 62 °F | 8 °C | 47 °F | 11 °C | 52 °F | 0.8 mm | 0.0 inch. |\\n| 10. April | 12 °C | 54 °F | 17 °C | 63 °F | 9 °C | 48 °F | 11 °C | 52 °F | 0.8 mm | 0.0 inch. |\\n| 11. April | 12 °C | 54 °F | 17 °C | 62 °F | 9 °C | 48 °F | 11 °C | 52 °F | 2.9 mm | 0.1 inch. |\\n| 12. April | 12 °C | 54 °F | 17 °C | 62 °F | 9 °C | 48 °F | 11 °C | 52 °F | 4.6 mm | 0.2 inch. |', 'score': 0.8687491}]\n"
          ]
        }
      ]
    },
    {
      "cell_type": "code",
      "source": [
        "!pip install -qU \"langchain[openai]\""
      ],
      "metadata": {
        "colab": {
          "base_uri": "https://localhost:8080/"
        },
        "id": "SgjpyRJzRfNQ",
        "outputId": "77c6f2c4-22a2-4ac0-d41f-90e2bfcc056f"
      },
      "execution_count": 5,
      "outputs": [
        {
          "output_type": "stream",
          "name": "stdout",
          "text": [
            "\u001b[?25l   \u001b[90m━━━━━━━━━━━━━━━━━━━━━━━━━━━━━━━━━━━━━━━━\u001b[0m \u001b[32m0.0/61.3 kB\u001b[0m \u001b[31m?\u001b[0m eta \u001b[36m-:--:--\u001b[0m\r\u001b[2K   \u001b[90m━━━━━━━━━━━━━━━━━━━━━━━━━━━━━━━━━━━━━━━━\u001b[0m \u001b[32m61.3/61.3 kB\u001b[0m \u001b[31m2.5 MB/s\u001b[0m eta \u001b[36m0:00:00\u001b[0m\n",
            "\u001b[?25h"
          ]
        }
      ]
    },
    {
      "cell_type": "code",
      "source": [
        "import getpass\n",
        "import os\n",
        "\n",
        "if not os.environ.get(\"OPENAI_API_KEY\"):\n",
        "  os.environ[\"OPENAI_API_KEY\"] = getpass.getpass(\"Enter API key for OpenAI: \")\n",
        "\n",
        "from langchain.chat_models import init_chat_model\n",
        "\n",
        "model = init_chat_model(\"gpt-4\", model_provider=\"openai\")"
      ],
      "metadata": {
        "colab": {
          "base_uri": "https://localhost:8080/"
        },
        "id": "JRAu4i_WRr-4",
        "outputId": "d6c127c4-b447-40f0-8d69-7219ad8a0e8c"
      },
      "execution_count": 6,
      "outputs": [
        {
          "name": "stdout",
          "output_type": "stream",
          "text": [
            "Enter API key for OpenAI: ··········\n"
          ]
        }
      ]
    },
    {
      "cell_type": "code",
      "source": [
        "from langchain_core.messages import HumanMessage\n",
        "\n",
        "response = model.invoke([HumanMessage(content=\"hi!\")])\n",
        "response.content"
      ],
      "metadata": {
        "colab": {
          "base_uri": "https://localhost:8080/",
          "height": 36
        },
        "id": "4rsgrDLGRuH0",
        "outputId": "e20e0dfc-c823-4877-ad50-2fa34d0f8153"
      },
      "execution_count": 7,
      "outputs": [
        {
          "output_type": "execute_result",
          "data": {
            "text/plain": [
              "'Hello! How can I assist you today?'"
            ],
            "application/vnd.google.colaboratory.intrinsic+json": {
              "type": "string"
            }
          },
          "metadata": {},
          "execution_count": 7
        }
      ]
    },
    {
      "cell_type": "markdown",
      "source": [
        "We can now see what it is like to enable this model to do tool calling. In order to enable that we use .bind_tools to give the language model knowledge of these tools"
      ],
      "metadata": {
        "id": "UO91wiiKR3WW"
      }
    },
    {
      "cell_type": "code",
      "source": [
        "model_with_tools = model.bind_tools(tools)"
      ],
      "metadata": {
        "id": "-nAZ5Go6RzHs"
      },
      "execution_count": 8,
      "outputs": []
    },
    {
      "cell_type": "code",
      "source": [
        "response = model_with_tools.invoke([HumanMessage(content=\"Hi!\")])\n",
        "\n",
        "print(f\"ContentString: {response.content}\")\n",
        "print(f\"ToolCalls: {response.tool_calls}\")"
      ],
      "metadata": {
        "colab": {
          "base_uri": "https://localhost:8080/"
        },
        "id": "SLniijqhR4x2",
        "outputId": "92fe346a-ef5d-4553-d4d9-18d39f698e48"
      },
      "execution_count": 9,
      "outputs": [
        {
          "output_type": "stream",
          "name": "stdout",
          "text": [
            "ContentString: Hello! How can I assist you today?\n",
            "ToolCalls: []\n"
          ]
        }
      ]
    },
    {
      "cell_type": "code",
      "source": [
        "response = model_with_tools.invoke([HumanMessage(content=\"What's the weather in SF?\")])\n",
        "\n",
        "print(f\"ContentString: {response.content}\")\n",
        "print(f\"ToolCalls: {response.tool_calls}\")"
      ],
      "metadata": {
        "colab": {
          "base_uri": "https://localhost:8080/"
        },
        "id": "x26okc6JSAu9",
        "outputId": "72619ac3-ae6b-4f11-9c34-f81bd23263db"
      },
      "execution_count": 10,
      "outputs": [
        {
          "output_type": "stream",
          "name": "stdout",
          "text": [
            "ContentString: \n",
            "ToolCalls: [{'name': 'tavily_search_results_json', 'args': {'query': 'current weather in San Francisco'}, 'id': 'call_4IjRdIxh2s7W7YKbQsMYDAm1', 'type': 'tool_call'}]\n"
          ]
        }
      ]
    },
    {
      "cell_type": "markdown",
      "source": [
        "Note that we are passing in the model, not model_with_tools. That is because create_react_agent will call .bind_tools for us under the hood."
      ],
      "metadata": {
        "id": "zZFuskgJS_Js"
      }
    },
    {
      "cell_type": "code",
      "source": [
        "from langgraph.prebuilt import create_react_agent\n",
        "\n",
        "agent_executor = create_react_agent(model, tools)"
      ],
      "metadata": {
        "id": "g14NLi8nSGk-"
      },
      "execution_count": 11,
      "outputs": []
    },
    {
      "cell_type": "markdown",
      "source": [
        "We can now run the agent with a few queries! Note that for now, these are all stateless queries (it won't remember previous interactions). Note that the agent will return the final state at the end of the interaction (which includes any inputs, we will see later on how to get only the outputs)."
      ],
      "metadata": {
        "id": "y7jlCCwGTIWj"
      }
    },
    {
      "cell_type": "code",
      "source": [
        "response = agent_executor.invoke({\"messages\": [HumanMessage(content=\"hi!\")]})\n",
        "\n",
        "response[\"messages\"]"
      ],
      "metadata": {
        "colab": {
          "base_uri": "https://localhost:8080/"
        },
        "id": "hjzxnqmrTDpC",
        "outputId": "53ae75c0-be9f-44f7-ff79-3371a51f8351"
      },
      "execution_count": 12,
      "outputs": [
        {
          "output_type": "execute_result",
          "data": {
            "text/plain": [
              "[HumanMessage(content='hi!', additional_kwargs={}, response_metadata={}, id='b82e357f-a5af-434c-a6ad-20ef47a90d6e'),\n",
              " AIMessage(content='Hello! How can I assist you today?', additional_kwargs={'refusal': None}, response_metadata={'token_usage': {'completion_tokens': 11, 'prompt_tokens': 83, 'total_tokens': 94, 'completion_tokens_details': {'accepted_prediction_tokens': 0, 'audio_tokens': 0, 'reasoning_tokens': 0, 'rejected_prediction_tokens': 0}, 'prompt_tokens_details': {'audio_tokens': 0, 'cached_tokens': 0}}, 'model_name': 'gpt-4-0613', 'system_fingerprint': None, 'id': 'chatcmpl-BLEEFrqbVp2NbYQcJt4oUtk5QN7Ex', 'finish_reason': 'stop', 'logprobs': None}, id='run-135e09a3-7fee-405e-8a1a-0189b7d52b4a-0', usage_metadata={'input_tokens': 83, 'output_tokens': 11, 'total_tokens': 94, 'input_token_details': {'audio': 0, 'cache_read': 0}, 'output_token_details': {'audio': 0, 'reasoning': 0}})]"
            ]
          },
          "metadata": {},
          "execution_count": 12
        }
      ]
    },
    {
      "cell_type": "code",
      "source": [
        "response = agent_executor.invoke(\n",
        "    {\"messages\": [HumanMessage(content=\"whats the weather in sf?\")]}\n",
        ")\n",
        "response[\"messages\"]"
      ],
      "metadata": {
        "colab": {
          "base_uri": "https://localhost:8080/"
        },
        "id": "3pweRzPtTKt3",
        "outputId": "07b81599-59e9-4ddd-cbe2-d38c35eb07a3"
      },
      "execution_count": 13,
      "outputs": [
        {
          "output_type": "execute_result",
          "data": {
            "text/plain": [
              "[HumanMessage(content='whats the weather in sf?', additional_kwargs={}, response_metadata={}, id='b12c2f9c-8636-44c1-8d47-258453119327'),\n",
              " AIMessage(content='', additional_kwargs={'tool_calls': [{'id': 'call_9cpsR8yOIW8hc8Qe5mQKjoye', 'function': {'arguments': '{\\n  \"query\": \"current weather in San Francisco\"\\n}', 'name': 'tavily_search_results_json'}, 'type': 'function'}], 'refusal': None}, response_metadata={'token_usage': {'completion_tokens': 24, 'prompt_tokens': 88, 'total_tokens': 112, 'completion_tokens_details': {'accepted_prediction_tokens': 0, 'audio_tokens': 0, 'reasoning_tokens': 0, 'rejected_prediction_tokens': 0}, 'prompt_tokens_details': {'audio_tokens': 0, 'cached_tokens': 0}}, 'model_name': 'gpt-4-0613', 'system_fingerprint': None, 'id': 'chatcmpl-BLEEOA6VKnsxNXNsgdtpz9w8SlrQe', 'finish_reason': 'tool_calls', 'logprobs': None}, id='run-02e4cde0-0ac6-411c-a0e0-89832123fa33-0', tool_calls=[{'name': 'tavily_search_results_json', 'args': {'query': 'current weather in San Francisco'}, 'id': 'call_9cpsR8yOIW8hc8Qe5mQKjoye', 'type': 'tool_call'}], usage_metadata={'input_tokens': 88, 'output_tokens': 24, 'total_tokens': 112, 'input_token_details': {'audio': 0, 'cache_read': 0}, 'output_token_details': {'audio': 0, 'reasoning': 0}}),\n",
              " ToolMessage(content='[{\"title\": \"Weather in San Francisco\", \"url\": \"https://www.weatherapi.com/\", \"content\": \"{\\'location\\': {\\'name\\': \\'San Francisco\\', \\'region\\': \\'California\\', \\'country\\': \\'United States of America\\', \\'lat\\': 37.775, \\'lon\\': -122.4183, \\'tz_id\\': \\'America/Los_Angeles\\', \\'localtime_epoch\\': 1744398068, \\'localtime\\': \\'2025-04-11 12:01\\'}, \\'current\\': {\\'last_updated_epoch\\': 1744398000, \\'last_updated\\': \\'2025-04-11 12:00\\', \\'temp_c\\': 15.3, \\'temp_f\\': 59.5, \\'is_day\\': 1, \\'condition\\': {\\'text\\': \\'Partly cloudy\\', \\'icon\\': \\'//cdn.weatherapi.com/weather/64x64/day/116.png\\', \\'code\\': 1003}, \\'wind_mph\\': 10.7, \\'wind_kph\\': 17.3, \\'wind_degree\\': 270, \\'wind_dir\\': \\'W\\', \\'pressure_mb\\': 1020.0, \\'pressure_in\\': 30.13, \\'precip_mm\\': 0.0, \\'precip_in\\': 0.0, \\'humidity\\': 78, \\'cloud\\': 75, \\'feelslike_c\\': 15.3, \\'feelslike_f\\': 59.5, \\'windchill_c\\': 12.6, \\'windchill_f\\': 54.6, \\'heatindex_c\\': 13.3, \\'heatindex_f\\': 56.0, \\'dewpoint_c\\': 12.4, \\'dewpoint_f\\': 54.4, \\'vis_km\\': 16.0, \\'vis_miles\\': 9.0, \\'uv\\': 6.8, \\'gust_mph\\': 13.3, \\'gust_kph\\': 21.4}}\", \"score\": 0.9328073}, {\"title\": \"Weather San Francisco in April 2025: Temperature & Climate\", \"url\": \"https://en.climate-data.org/north-america/united-states-of-america/california/san-francisco-385/t/april-4/\", \"content\": \"| Max. Temperature °C (°F) | 14 °C\\\\n(57.3) °F\\\\n| 14.9 °C\\\\n(58.7) °F\\\\n| 16.2 °C\\\\n(61.2) °F\\\\n| 17.4 °C\\\\n(63.3) °F\\\\n| 19.2 °C\\\\n(66.5) °F\\\\n| 21.5 °C\\\\n(70.8) °F\\\\n| 21.8 °C\\\\n(71.2) °F\\\\n| 22.2 °C\\\\n(71.9) °F\\\\n| 23.1 °C\\\\n(73.6) °F\\\\n| 21.3 °C\\\\n(70.3) °F\\\\n| 17.1 °C\\\\n(62.8) °F\\\\n| 13.9 °C\\\\n(57.1) °F\\\\n|\\\\n| Precipitation / Rainfall mm (in) | 113\\\\n(4)\\\\n| 118\\\\n(4)\\\\n| 83\\\\n(3)\\\\n| 40\\\\n(1)\\\\n| 21\\\\n(0)\\\\n| 6\\\\n(0)\\\\n| 2\\\\n(0)\\\\n| 2\\\\n(0)\\\\n| 3\\\\n(0)\\\\n| 25\\\\n(0)\\\\n| 57\\\\n(2)\\\\n| 111\\\\n(4)\\\\n|\\\\n| Humidity(%) | 79% | 80% | 78% | 72% | 70% | 69% | 74% | 74% | 71% | 70% | 76% | 78% | [...] (50.8) °F\\\\n| 11.6 °C\\\\n(52.9) °F\\\\n| 12.5 °C\\\\n(54.6) °F\\\\n| 14.1 °C\\\\n(57.4) °F\\\\n| 15.9 °C\\\\n(60.7) °F\\\\n| 16.3 °C\\\\n(61.4) °F\\\\n| 16.7 °C\\\\n(62.1) °F\\\\n| 17.1 °C\\\\n(62.7) °F\\\\n| 15.7 °C\\\\n(60.2) °F\\\\n| 12.4 °C\\\\n(54.4) °F\\\\n| 9.9 °C\\\\n(49.8) °F\\\\n|\\\\n| Min. Temperature °C (°F) | 6.2 °C\\\\n(43.2) °F\\\\n| 7.1 °C\\\\n(44.8) °F\\\\n| 8.2 °C\\\\n(46.8) °F\\\\n| 8.9 °C\\\\n(48.1) °F\\\\n| 10.3 °C\\\\n(50.6) °F\\\\n| 11.8 °C\\\\n(53.3) °F\\\\n| 12.7 °C\\\\n(54.9) °F\\\\n| 13.3 °C\\\\n(55.9) °F\\\\n| 13.1 °C\\\\n(55.6) °F\\\\n| 11.9 °C\\\\n(53.4) °F\\\\n| 9 °C\\\\n(48.2) °F\\\\n| 6.8 °C\\\\n(44.2) °F\\\\n| [...] | 8. April | 12 °C | 53 °F | 17 °C | 62 °F | 8 °C | 47 °F | 11 °C | 52 °F | 2.1 mm | 0.1 inch. |\\\\n| 9. April | 12 °C | 53 °F | 16 °C | 62 °F | 8 °C | 47 °F | 11 °C | 52 °F | 0.8 mm | 0.0 inch. |\\\\n| 10. April | 12 °C | 54 °F | 17 °C | 63 °F | 9 °C | 48 °F | 11 °C | 52 °F | 0.8 mm | 0.0 inch. |\\\\n| 11. April | 12 °C | 54 °F | 17 °C | 62 °F | 9 °C | 48 °F | 11 °C | 52 °F | 2.9 mm | 0.1 inch. |\\\\n| 12. April | 12 °C | 54 °F | 17 °C | 62 °F | 9 °C | 48 °F | 11 °C | 52 °F | 4.6 mm | 0.2 inch. |\", \"score\": 0.87166095}]', name='tavily_search_results_json', id='1b54fc28-3146-4d64-b382-ffeccf2d33b9', tool_call_id='call_9cpsR8yOIW8hc8Qe5mQKjoye', artifact={'query': 'current weather in San Francisco', 'follow_up_questions': None, 'answer': None, 'images': [], 'results': [{'title': 'Weather in San Francisco', 'url': 'https://www.weatherapi.com/', 'content': \"{'location': {'name': 'San Francisco', 'region': 'California', 'country': 'United States of America', 'lat': 37.775, 'lon': -122.4183, 'tz_id': 'America/Los_Angeles', 'localtime_epoch': 1744398068, 'localtime': '2025-04-11 12:01'}, 'current': {'last_updated_epoch': 1744398000, 'last_updated': '2025-04-11 12:00', 'temp_c': 15.3, 'temp_f': 59.5, 'is_day': 1, 'condition': {'text': 'Partly cloudy', 'icon': '//cdn.weatherapi.com/weather/64x64/day/116.png', 'code': 1003}, 'wind_mph': 10.7, 'wind_kph': 17.3, 'wind_degree': 270, 'wind_dir': 'W', 'pressure_mb': 1020.0, 'pressure_in': 30.13, 'precip_mm': 0.0, 'precip_in': 0.0, 'humidity': 78, 'cloud': 75, 'feelslike_c': 15.3, 'feelslike_f': 59.5, 'windchill_c': 12.6, 'windchill_f': 54.6, 'heatindex_c': 13.3, 'heatindex_f': 56.0, 'dewpoint_c': 12.4, 'dewpoint_f': 54.4, 'vis_km': 16.0, 'vis_miles': 9.0, 'uv': 6.8, 'gust_mph': 13.3, 'gust_kph': 21.4}}\", 'score': 0.9328073, 'raw_content': None}, {'url': 'https://en.climate-data.org/north-america/united-states-of-america/california/san-francisco-385/t/april-4/', 'title': 'Weather San Francisco in April 2025: Temperature & Climate', 'content': '| Max. Temperature °C (°F) | 14 °C\\n(57.3) °F\\n| 14.9 °C\\n(58.7) °F\\n| 16.2 °C\\n(61.2) °F\\n| 17.4 °C\\n(63.3) °F\\n| 19.2 °C\\n(66.5) °F\\n| 21.5 °C\\n(70.8) °F\\n| 21.8 °C\\n(71.2) °F\\n| 22.2 °C\\n(71.9) °F\\n| 23.1 °C\\n(73.6) °F\\n| 21.3 °C\\n(70.3) °F\\n| 17.1 °C\\n(62.8) °F\\n| 13.9 °C\\n(57.1) °F\\n|\\n| Precipitation / Rainfall mm (in) | 113\\n(4)\\n| 118\\n(4)\\n| 83\\n(3)\\n| 40\\n(1)\\n| 21\\n(0)\\n| 6\\n(0)\\n| 2\\n(0)\\n| 2\\n(0)\\n| 3\\n(0)\\n| 25\\n(0)\\n| 57\\n(2)\\n| 111\\n(4)\\n|\\n| Humidity(%) | 79% | 80% | 78% | 72% | 70% | 69% | 74% | 74% | 71% | 70% | 76% | 78% | [...] (50.8) °F\\n| 11.6 °C\\n(52.9) °F\\n| 12.5 °C\\n(54.6) °F\\n| 14.1 °C\\n(57.4) °F\\n| 15.9 °C\\n(60.7) °F\\n| 16.3 °C\\n(61.4) °F\\n| 16.7 °C\\n(62.1) °F\\n| 17.1 °C\\n(62.7) °F\\n| 15.7 °C\\n(60.2) °F\\n| 12.4 °C\\n(54.4) °F\\n| 9.9 °C\\n(49.8) °F\\n|\\n| Min. Temperature °C (°F) | 6.2 °C\\n(43.2) °F\\n| 7.1 °C\\n(44.8) °F\\n| 8.2 °C\\n(46.8) °F\\n| 8.9 °C\\n(48.1) °F\\n| 10.3 °C\\n(50.6) °F\\n| 11.8 °C\\n(53.3) °F\\n| 12.7 °C\\n(54.9) °F\\n| 13.3 °C\\n(55.9) °F\\n| 13.1 °C\\n(55.6) °F\\n| 11.9 °C\\n(53.4) °F\\n| 9 °C\\n(48.2) °F\\n| 6.8 °C\\n(44.2) °F\\n| [...] | 8. April | 12 °C | 53 °F | 17 °C | 62 °F | 8 °C | 47 °F | 11 °C | 52 °F | 2.1 mm | 0.1 inch. |\\n| 9. April | 12 °C | 53 °F | 16 °C | 62 °F | 8 °C | 47 °F | 11 °C | 52 °F | 0.8 mm | 0.0 inch. |\\n| 10. April | 12 °C | 54 °F | 17 °C | 63 °F | 9 °C | 48 °F | 11 °C | 52 °F | 0.8 mm | 0.0 inch. |\\n| 11. April | 12 °C | 54 °F | 17 °C | 62 °F | 9 °C | 48 °F | 11 °C | 52 °F | 2.9 mm | 0.1 inch. |\\n| 12. April | 12 °C | 54 °F | 17 °C | 62 °F | 9 °C | 48 °F | 11 °C | 52 °F | 4.6 mm | 0.2 inch. |', 'score': 0.87166095, 'raw_content': None}], 'response_time': 1.89}),\n",
              " AIMessage(content='The current weather in San Francisco is partly cloudy with a temperature of 15.3°C (59.5°F). The wind is coming from the West at a speed of 10.7 mph. The humidity is at 78%, and visibility is 16.0 km. The UV index is 6.8. There is no precipitation at the moment. For more detailed information, you can check the [source](https://www.weatherapi.com/).', additional_kwargs={'refusal': None}, response_metadata={'token_usage': {'completion_tokens': 96, 'prompt_tokens': 1654, 'total_tokens': 1750, 'completion_tokens_details': {'accepted_prediction_tokens': 0, 'audio_tokens': 0, 'reasoning_tokens': 0, 'rejected_prediction_tokens': 0}, 'prompt_tokens_details': {'audio_tokens': 0, 'cached_tokens': 0}}, 'model_name': 'gpt-4-0613', 'system_fingerprint': None, 'id': 'chatcmpl-BLEESdFBFcoRmA6AYp8q4Uperycxq', 'finish_reason': 'stop', 'logprobs': None}, id='run-d4eb3030-dcbd-47ec-b461-5c3470f07ded-0', usage_metadata={'input_tokens': 1654, 'output_tokens': 96, 'total_tokens': 1750, 'input_token_details': {'audio': 0, 'cache_read': 0}, 'output_token_details': {'audio': 0, 'reasoning': 0}})]"
            ]
          },
          "metadata": {},
          "execution_count": 13
        }
      ]
    },
    {
      "cell_type": "markdown",
      "source": [
        "We've seen how the agent can be called with .invoke to get a final response. If the agent executes multiple steps, this may take a while. To show intermediate progress, we can stream back messages as they occur."
      ],
      "metadata": {
        "id": "-t5zrTLmTUDl"
      }
    },
    {
      "cell_type": "code",
      "source": [
        "for step in agent_executor.stream(\n",
        "    {\"messages\": [HumanMessage(content=\"whats the weather in sf?\")]},\n",
        "    stream_mode=\"values\",\n",
        "):\n",
        "    step[\"messages\"][-1].pretty_print()"
      ],
      "metadata": {
        "colab": {
          "base_uri": "https://localhost:8080/"
        },
        "id": "AYO8FDa5TNie",
        "outputId": "79357229-60f1-437c-c787-dd9637f84bc2"
      },
      "execution_count": 14,
      "outputs": [
        {
          "output_type": "stream",
          "name": "stdout",
          "text": [
            "================================\u001b[1m Human Message \u001b[0m=================================\n",
            "\n",
            "whats the weather in sf?\n",
            "==================================\u001b[1m Ai Message \u001b[0m==================================\n",
            "Tool Calls:\n",
            "  tavily_search_results_json (call_ssY8tXK73DSjfnfsqrUO6isg)\n",
            " Call ID: call_ssY8tXK73DSjfnfsqrUO6isg\n",
            "  Args:\n",
            "    query: current weather in san francisco\n",
            "=================================\u001b[1m Tool Message \u001b[0m=================================\n",
            "Name: tavily_search_results_json\n",
            "\n",
            "[{\"title\": \"Weather in San Francisco\", \"url\": \"https://www.weatherapi.com/\", \"content\": \"{'location': {'name': 'San Francisco', 'region': 'California', 'country': 'United States of America', 'lat': 37.775, 'lon': -122.4183, 'tz_id': 'America/Los_Angeles', 'localtime_epoch': 1744399331, 'localtime': '2025-04-11 12:22'}, 'current': {'last_updated_epoch': 1744398900, 'last_updated': '2025-04-11 12:15', 'temp_c': 16.7, 'temp_f': 62.1, 'is_day': 1, 'condition': {'text': 'Partly cloudy', 'icon': '//cdn.weatherapi.com/weather/64x64/day/116.png', 'code': 1003}, 'wind_mph': 10.7, 'wind_kph': 17.3, 'wind_degree': 270, 'wind_dir': 'W', 'pressure_mb': 1021.0, 'pressure_in': 30.14, 'precip_mm': 0.0, 'precip_in': 0.0, 'humidity': 72, 'cloud': 75, 'feelslike_c': 16.7, 'feelslike_f': 62.1, 'windchill_c': 12.6, 'windchill_f': 54.6, 'heatindex_c': 13.3, 'heatindex_f': 56.0, 'dewpoint_c': 12.4, 'dewpoint_f': 54.4, 'vis_km': 16.0, 'vis_miles': 9.0, 'uv': 6.8, 'gust_mph': 13.3, 'gust_kph': 21.4}}\", \"score\": 0.9662835}, {\"title\": \"Weather in San Francisco in April 2025 - Detailed Forecast\", \"url\": \"https://www.easeweather.com/north-america/united-states/california/city-and-county-of-san-francisco/san-francisco/april\", \"content\": \"Sunny\\n| 64° /55° | 0 in | 4 |  |\\n| Apr. 11 | \\nPartly cloudy\\n| 59° /53° | 0 in | 4 |  |\\n| Apr. 12 | \\nSunny\\n| 55° /50° | 0 in | 4 |  |\\n| Apr. 13 | \\nSunny\\n| 55° /48° | 0 in | 4 |  |\\n| Apr. 14 | \\nPatchy rain possible\\n| 51° /46° | 0.01 in | 3 |  |\\n| Apr. 15 | \\nSunny\\n| 59° /44° | 0 in | 4 |  |\\n| Apr. 16 | \\nOvercast\\n| 60° /44° | 0.1 in | 4 |  |\\n| Apr. 17 | \\nSunny\\n| 60° /46° | 0 in | 4 |  |\\n| Apr. 18 | \\nOvercast\\n| 62° /46° | 0.01 in | 4 |  |\\n| Apr. 19 | \\nCloudy\\n| 60° /48° | 0.02 in | 4 |  | [...] April\\nJanuaryFebruaryMarch\\nApril\\nMayJuneJulyAugustSeptemberOctoberNovemberDecember\\nWeather in San Francisco for April 2025\\nYour guide to San Francisco weather in April - trends and predictions\\nTemperatures\\n\\n\\nThe forecast for the next days in San Francisco predicts temperatures to be around 59 °F, close to the historical average. [...] San Francisco Weather April\\nMove between months or click on a day\\nMarch\\nMay\\n| Sun. | Mon. | Tue. | Wed. | Thu. | Fri. | Sat. |\\n| --- | --- | --- | --- | --- | --- | --- |\\n| \\n | \\n| 1  53° | 2  53° | 3  53° | 4  62° | 5  64° |\\n| 6  57° | 7  59° | 8  60° | 9  64° | 10  64° | 11  59° | 12  55° |\\n| 13  55° | 14  51° | 15  59° | 16  60° | 17  60° | 18  62° | 19  60° |\\n| 20  62° | 21  62° | 22  62° | 23  62° | 24  62° | 25  60° | 26  64° |\\n| 27  64° | 28  66° | 29  64° | 30  62° |  |  |  |\", \"score\": 0.914176}]\n",
            "==================================\u001b[1m Ai Message \u001b[0m==================================\n",
            "\n",
            "The current weather in San Francisco is partly cloudy with a temperature of 62.1°F (16.7°C). The wind is coming from the west at 10.7 mph. The humidity level is at 72%. [Information based on this source.](https://www.weatherapi.com/)\n"
          ]
        }
      ]
    },
    {
      "cell_type": "markdown",
      "source": [
        "As mentioned earlier, this agent is stateless. This means it does not remember previous interactions. To give it memory we need to pass in a checkpointer. When passing in a checkpointer, we also have to pass in a thread_id when invoking the agent (so it knows which thread/conversation to resume from)."
      ],
      "metadata": {
        "id": "tkk2AKu5TdkA"
      }
    },
    {
      "cell_type": "code",
      "source": [
        "from langgraph.checkpoint.memory import MemorySaver\n",
        "\n",
        "memory = MemorySaver()\n",
        "\n",
        "agent_executor = create_react_agent(model, tools, checkpointer=memory)\n",
        "\n",
        "config = {\"configurable\": {\"thread_id\": \"abc123\"}}\n",
        "\n",
        "for chunk in agent_executor.stream(\n",
        "    {\"messages\": [HumanMessage(content=\"hi im bob!\")]}, config\n",
        "):\n",
        "    print(chunk)\n",
        "    print(\"----\")"
      ],
      "metadata": {
        "colab": {
          "base_uri": "https://localhost:8080/"
        },
        "id": "F0W_y_6KTWTI",
        "outputId": "c9f80fbf-08a8-4acb-e5b4-285dfd0ce1b6"
      },
      "execution_count": 15,
      "outputs": [
        {
          "output_type": "stream",
          "name": "stdout",
          "text": [
            "{'agent': {'messages': [AIMessage(content='Hello Bob! How can I assist you today?', additional_kwargs={'refusal': None}, response_metadata={'token_usage': {'completion_tokens': 12, 'prompt_tokens': 85, 'total_tokens': 97, 'completion_tokens_details': {'accepted_prediction_tokens': 0, 'audio_tokens': 0, 'reasoning_tokens': 0, 'rejected_prediction_tokens': 0}, 'prompt_tokens_details': {'audio_tokens': 0, 'cached_tokens': 0}}, 'model_name': 'gpt-4-0613', 'system_fingerprint': None, 'id': 'chatcmpl-BLEFlj6ZE62oin6mflJu63fOJfSR6', 'finish_reason': 'stop', 'logprobs': None}, id='run-196f0366-c213-422c-91c0-137cc1eda0e5-0', usage_metadata={'input_tokens': 85, 'output_tokens': 12, 'total_tokens': 97, 'input_token_details': {'audio': 0, 'cache_read': 0}, 'output_token_details': {'audio': 0, 'reasoning': 0}})]}}\n",
            "----\n"
          ]
        }
      ]
    },
    {
      "cell_type": "code",
      "source": [
        "for chunk in agent_executor.stream(\n",
        "    {\"messages\": [HumanMessage(content=\"whats my name?\")]}, config\n",
        "):\n",
        "    print(chunk)\n",
        "    print(\"----\")"
      ],
      "metadata": {
        "colab": {
          "base_uri": "https://localhost:8080/"
        },
        "id": "sLaN55WGTiKJ",
        "outputId": "6ba5a6c7-2ff5-4bfa-86de-08ebe398ac47"
      },
      "execution_count": 16,
      "outputs": [
        {
          "output_type": "stream",
          "name": "stdout",
          "text": [
            "{'agent': {'messages': [AIMessage(content='Your name is Bob.', additional_kwargs={'refusal': None}, response_metadata={'token_usage': {'completion_tokens': 7, 'prompt_tokens': 108, 'total_tokens': 115, 'completion_tokens_details': {'accepted_prediction_tokens': 0, 'audio_tokens': 0, 'reasoning_tokens': 0, 'rejected_prediction_tokens': 0}, 'prompt_tokens_details': {'audio_tokens': 0, 'cached_tokens': 0}}, 'model_name': 'gpt-4-0613', 'system_fingerprint': None, 'id': 'chatcmpl-BLEFqextXGFXhvCvqYsCrCMkyOX7i', 'finish_reason': 'stop', 'logprobs': None}, id='run-7c2c7e97-52b0-4e8c-af8c-03b58b0b3496-0', usage_metadata={'input_tokens': 108, 'output_tokens': 7, 'total_tokens': 115, 'input_token_details': {'audio': 0, 'cache_read': 0}, 'output_token_details': {'audio': 0, 'reasoning': 0}})]}}\n",
            "----\n"
          ]
        }
      ]
    },
    {
      "cell_type": "code",
      "source": [],
      "metadata": {
        "id": "05wLmy-FTjZD"
      },
      "execution_count": null,
      "outputs": []
    }
  ]
}